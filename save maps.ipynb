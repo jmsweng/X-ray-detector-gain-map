{
 "cells": [
  {
   "cell_type": "code",
   "execution_count": 1,
   "id": "d79fc1d2",
   "metadata": {},
   "outputs": [],
   "source": [
    "# The script is to save 2-theta map, Azm map, pixel distance map, and polarization scale map using GSAS-II scriptable.\n",
    "# Use python installed with GSAS-II to execute the script.  Best way: use run_savemaps.bat (edit paths inside)\n",
    "# An image and an *.imctrl file have to be present in the directory containing this script and the bat file.\n",
    "# C:\\Users\\17bmuser\\AppData\\Local\\Continuum\\gsas2full\\python.exe\n",
    "\n",
    "import os,sys,glob\n",
    "from PIL import Image"
   ]
  },
  {
   "cell_type": "code",
   "execution_count": 2,
   "id": "fde26171",
   "metadata": {},
   "outputs": [
    {
     "name": "stdout",
     "output_type": "stream",
     "text": [
      "======================================================================\n",
      "Failed to run pyspg in C:\\Users\\jweng\\gsas2full\\GSASII\\bindist\n",
      "error: No module named 'pyspg'\n",
      "======================================================================\n",
      "======================================================================\n",
      "Failed to run pyspg in C:\\Users\\jweng\\gsas2full\\GSASII\\bindist\n",
      "error: No module named 'pyspg'\n",
      "======================================================================\n",
      "Attempting to download GSAS-II binary files...\n",
      "Running svn command:\n",
      "  C:\\Users\\jweng\\gsas2full\\Library\\bin\\svn.exe list https://subversion.xray.aps.anl.gov/pyGSAS/Binaries/ --non-interactive --trust-server-cert \n",
      "FYI: The current numpy version, 1.20.1, is newer than the newest dist version 1.19\n",
      "Loading files to C:\\Users\\jweng\\gsas2full\\GSASII\\bindist\\\n",
      "  from https://subversion.xray.aps.anl.gov/pyGSAS/Binaries/win_64_p3.8_n1.19/\n",
      "\n",
      "svn command:  C:\\Users\\jweng\\gsas2full\\Library\\bin\\svn.exe switch https://subversion.xray.aps.anl.gov/pyGSAS/Binaries/win_64_p3.8_n1.19/ C:\\Users\\jweng\\gsas2full\\GSASII\\bindist\\ --non-interactive --trust-server-cert --accept theirs-conflict --force -rHEAD --ignore-ancestry \n",
      "\n",
      "=== Output from svn switch===========================================\n",
      "D    C:\\Users\\jweng\\gsas2full\\GSASII\\bindist\\pypowder.cp37-win_amd64.pyd\n",
      "D    C:\\Users\\jweng\\gsas2full\\GSASII\\bindist\\pytexture.cp37-win_amd64.pyd\n",
      "D    C:\\Users\\jweng\\gsas2full\\GSASII\\bindist\\pydiffax.cp37-win_amd64.pyd\n",
      "D    C:\\Users\\jweng\\gsas2full\\GSASII\\bindist\\unpack_cbf.cp37-win_amd64.pyd\n",
      "D    C:\\Users\\jweng\\gsas2full\\GSASII\\bindist\\histosigma2d.cp37-win_amd64.pyd\n",
      "D    C:\\Users\\jweng\\gsas2full\\GSASII\\bindist\\polymask.cp37-win_amd64.pyd\n",
      "D    C:\\Users\\jweng\\gsas2full\\GSASII\\bindist\\spotmask.cp37-win_amd64.pyd\n",
      "D    C:\\Users\\jweng\\gsas2full\\GSASII\\bindist\\pyspg.cp37-win_amd64.pyd\n",
      "D    C:\\Users\\jweng\\gsas2full\\GSASII\\bindist\\histogram2d.cp37-win_amd64.pyd\n",
      "D    C:\\Users\\jweng\\gsas2full\\GSASII\\bindist\\pack_f.cp37-win_amd64.pyd\n",
      "A    C:\\Users\\jweng\\gsas2full\\GSASII\\bindist\\histogram2d.cp38-win_amd64.pyd\n",
      "A    C:\\Users\\jweng\\gsas2full\\GSASII\\bindist\\pack_f.cp38-win_amd64.pyd\n",
      "A    C:\\Users\\jweng\\gsas2full\\GSASII\\bindist\\unpack_cbf.cp38-win_amd64.pyd\n",
      "A    C:\\Users\\jweng\\gsas2full\\GSASII\\bindist\\histosigma2d.cp38-win_amd64.pyd\n",
      "A    C:\\Users\\jweng\\gsas2full\\GSASII\\bindist\\polymask.cp38-win_amd64.pyd\n",
      "A    C:\\Users\\jweng\\gsas2full\\GSASII\\bindist\\spotmask.cp38-win_amd64.pyd\n",
      "A    C:\\Users\\jweng\\gsas2full\\GSASII\\bindist\\pyspg.cp38-win_amd64.pyd\n",
      "A    C:\\Users\\jweng\\gsas2full\\GSASII\\bindist\\fellipse.cp38-win_amd64.pyd\n",
      "U    C:\\Users\\jweng\\gsas2full\\GSASII\\bindist\\Build.notes.txt\n",
      "A    C:\\Users\\jweng\\gsas2full\\GSASII\\bindist\\pypowder.cp38-win_amd64.pyd\n",
      "A    C:\\Users\\jweng\\gsas2full\\GSASII\\bindist\\pytexture.cp38-win_amd64.pyd\n",
      "A    C:\\Users\\jweng\\gsas2full\\GSASII\\bindist\\pydiffax.cp38-win_amd64.pyd\n",
      "Updated to revision 5169.\n",
      "======================================================================\n",
      "\n",
      "GSAS-II binary directory: C:\\Users\\jweng\\gsas2full\\GSASII\\bindist\n",
      "6 values read from config file C:\\Users\\jweng\\gsas2full\\GSASII\\config.py\n",
      "ImportError for wx/mpl in GSASIIctrlGUI: ignore if docs build\n"
     ]
    }
   ],
   "source": [
    "sys.path.insert(0,'C:/Users/jweng/gsas2full/GSASII')\t# where GSASII is located\n",
    "\n",
    "import GSASIIscriptable as G2sc\n",
    "import GSASIIimage as G2img\n",
    "\n",
    "\n",
    "def getmaps(tifname,imctrlname):\t\t# fast integration using the same imctrl and mask\n",
    "    imlst = gpx.add_image(PathWrap(tifname),fmthint=\"TIF\")\n",
    "    imlst[0].loadControls(PathWrap(imctrlname))\t# change control file name\n",
    "    Data = imlst[0].data['Image Controls']\n",
    "    TA = G2img.Make2ThetaAzimuthMap(Data,(0,Data['size'][0]),(0,Data['size'][1]))    #2-theta array, 2880 according to detector pixel numbers\n",
    "    path1 =  os.path.join(pathmaps,imctrlname)\n",
    "    im = Image.fromarray(TA[0])\n",
    "    im.save(os.path.splitext(path1)[0] + '_2thetamap.tif')\n",
    "    im = Image.fromarray(TA[1])\n",
    "    im.save(os.path.splitext(path1)[0] + '_azmmap.tif')\n",
    "    im = Image.fromarray(TA[2])\n",
    "    im.save(os.path.splitext(path1)[0] + '_pixelsampledistmap.tif')\n",
    "    im = Image.fromarray(TA[3])\n",
    "    im.save(os.path.splitext(path1)[0] + '_polscalemap.tif')\n",
    "\n",
    "def updatelist(ext):\t\t\t# search for tif files in the main directory\n",
    "    filelist=glob.glob(ext)\n",
    "    filelist.sort(key=lambda x: os.path.getctime(x), reverse=False) #sort files by creation time in ascending order\n",
    "    return filelist"
   ]
  },
  {
   "cell_type": "code",
   "execution_count": 4,
   "id": "5db9e9cd",
   "metadata": {},
   "outputs": [
    {
     "data": {
      "text/plain": [
       "'C:\\\\Users\\\\jweng\\\\Documents\\\\Gain maps'"
      ]
     },
     "execution_count": 4,
     "metadata": {},
     "output_type": "execute_result"
    }
   ],
   "source": [
    "os.getcwd()"
   ]
  },
  {
   "cell_type": "code",
   "execution_count": 3,
   "id": "99ca8cf4",
   "metadata": {},
   "outputs": [
    {
     "name": "stdout",
     "output_type": "stream",
     "text": [
      "ImportError for wx/mpl in GSASIIctrlGUI: ignore if docs build\n",
      "ImportError for wx/mpl in GSASIIctrlGUI: ignore if docs build\n",
      "ImportError for wx/mpl in GSASIIctrlGUI: ignore if docs build\n",
      "ImportError for wx/mpl in GSASIIctrlGUI: ignore if docs build\n",
      "\n",
      "Import_Phase: Error importing file C:\\Users\\jweng\\gsas2full\\GSASII\\imports\\G2phase_rmc6f.py\n",
      "Error message: No module named 'wx'\n",
      "\n",
      "ImportError for wx/mpl in GSASIIctrlGUI: ignore if docs build\n",
      "\n",
      "Export init: Error importing file C:\\Users\\jweng\\gsas2full\\GSASII\\exports\\G2export_JSON.py\n",
      "Error message: No module named 'wx'\n",
      "\n",
      "need at least one tif image in the folder!\n"
     ]
    }
   ],
   "source": [
    "if __name__ == \"__main__\":\n",
    "\n",
    "    cwd = os.getcwd()\t\t\t\t# get the current path\n",
    "\n",
    "    PathWrap = lambda fil: os.path.join(cwd,fil)\n",
    "\n",
    "    gpx = G2sc.G2Project(filename=PathWrap('calibrations.gpx'))\n",
    "\n",
    "    newdir = 'maps'\t\t\t\t\t# make a subfolder to store integrated images\n",
    "    path = os.path.join(cwd,newdir)\n",
    "    if not os.path.exists(path):\t\t\t\n",
    "        os.mkdir(path)\n",
    "    pathmaps = path\n",
    "\n",
    "    tiflist = updatelist('*.tif')\n",
    "    imctrllist = updatelist('*.imctrl')\n",
    "\n",
    "    if not tiflist:\n",
    "        print(\"need at least one tif image in the folder!\")\n",
    "    elif not imctrllist:\n",
    "        print(\"no imctrl files in the folder!\")\n",
    "    else:\n",
    "        for file in imctrllist:\n",
    "            getmaps(tiflist[0],file)"
   ]
  },
  {
   "cell_type": "code",
   "execution_count": null,
   "id": "64c182ed",
   "metadata": {},
   "outputs": [],
   "source": []
  }
 ],
 "metadata": {
  "kernelspec": {
   "display_name": "Python 3",
   "language": "python",
   "name": "python3"
  },
  "language_info": {
   "codemirror_mode": {
    "name": "ipython",
    "version": 3
   },
   "file_extension": ".py",
   "mimetype": "text/x-python",
   "name": "python",
   "nbconvert_exporter": "python",
   "pygments_lexer": "ipython3",
   "version": "3.8.8"
  }
 },
 "nbformat": 4,
 "nbformat_minor": 5
}
