{
 "cells": [
  {
   "cell_type": "code",
   "execution_count": null,
   "id": "d79fc1d2",
   "metadata": {},
   "outputs": [],
   "source": [
    "# The script is to save 2-theta map, Azm map, pixel distance map, and polarization scale map using GSAS-II scriptable.\n",
    "# Use python installed with GSAS-II to execute the script.  Best way: use run_savemaps.bat (edit paths inside)\n",
    "# An image and an *.imctrl file have to be present in the directory containing this script and the bat file.\n",
    "# C:\\Users\\17bmuser\\AppData\\Local\\Continuum\\gsas2full\\python.exe\n",
    "\n",
    "import os,sys,glob\n",
    "from PIL import Image\n",
    "\n",
    "sys.path.insert(0,'C:/Users/jweng/gsas2full/GSASII')\t# where GSASII is located\n",
    "\n",
    "import GSASIIscriptable as G2sc\n",
    "import GSASIIimage as G2img\n",
    "\n",
    "\n",
    "def getmaps(tifname,imctrlname):\t\t# fast integration using the same imctrl and mask\n",
    "    imlst = gpx.add_image(PathWrap(tifname),fmthint=\"TIF\")\n",
    "    imlst[0].loadControls(PathWrap(imctrlname))\t# change control file name\n",
    "    Data = imlst[0].data['Image Controls']\n",
    "    TA = G2img.Make2ThetaAzimuthMap(Data,(0,Data['size'][1]),(0,Data['size'][0]))    #2-theta array\n",
    "    path1 =  os.path.join(pathmaps,imctrlname)\n",
    "    im = Image.fromarray(TA[0])\n",
    "    im.save(os.path.splitext(path1)[0] + '_2thetamap.tif')\n",
    "    im = Image.fromarray(TA[1])\n",
    "    im.save(os.path.splitext(path1)[0] + '_azmmap.tif')\n",
    "    im = Image.fromarray(TA[2])\n",
    "    im.save(os.path.splitext(path1)[0] + '_pixelsampledistmap.tif')\n",
    "    im = Image.fromarray(TA[3])\n",
    "    im.save(os.path.splitext(path1)[0] + '_polscalemap.tif')\n",
    "\n",
    "def updatelist(ext):\t\t\t# search for tif files in the main directory\n",
    "    filelist=glob.glob(ext)\n",
    "    filelist.sort(key=lambda x: os.path.getctime(x), reverse=False) #sort files by creation time in ascending order\n",
    "    return filelist"
   ]
  },
  {
   "cell_type": "code",
   "execution_count": null,
   "id": "99ca8cf4",
   "metadata": {},
   "outputs": [],
   "source": [
    "if __name__ == \"__main__\":\n",
    "\n",
    "    cwd = os.getcwd()\t\t\t\t# get the current path\n",
    "\n",
    "    PathWrap = lambda fil: os.path.join(cwd,fil)\n",
    "\n",
    "    gpx = G2sc.G2Project(filename=PathWrap('calibrations.gpx'))\n",
    "\n",
    "    newdir = 'maps'\t\t\t\t\t# make a subfolder to store integrated images\n",
    "    path = os.path.join(cwd,newdir)\n",
    "    if not os.path.exists(path):\t\t\t\n",
    "        os.mkdir(path)\n",
    "    pathmaps = path\n",
    "\n",
    "    tiflist = updatelist('*.tif')\n",
    "    imctrllist = updatelist('*.imctrl')\n",
    "\n",
    "    if not tiflist:\n",
    "        print(\"need at least one tif image in the folder!\")\n",
    "    elif not imctrllist:\n",
    "        print(\"no imctrl files in the folder!\")\n",
    "    else:\n",
    "        for file in imctrllist:\n",
    "            getmaps(tiflist[0],file)"
   ]
  },
  {
   "cell_type": "code",
   "execution_count": null,
   "id": "64c182ed",
   "metadata": {},
   "outputs": [],
   "source": []
  }
 ],
 "metadata": {
  "kernelspec": {
   "display_name": "Python 3",
   "language": "python",
   "name": "python3"
  },
  "language_info": {
   "codemirror_mode": {
    "name": "ipython",
    "version": 3
   },
   "file_extension": ".py",
   "mimetype": "text/x-python",
   "name": "python",
   "nbconvert_exporter": "python",
   "pygments_lexer": "ipython3",
   "version": "3.8.8"
  }
 },
 "nbformat": 4,
 "nbformat_minor": 5
}
